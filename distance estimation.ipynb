{
 "cells": [
  {
   "cell_type": "code",
   "execution_count": 6,
   "metadata": {},
   "outputs": [
    {
     "name": "stdout",
     "output_type": "stream",
     "text": [
      "cuda\n",
      "tensor(0.0001, device='cuda:0')\n"
     ]
    },
    {
     "name": "stderr",
     "output_type": "stream",
     "text": [
      "  0%|          | 0/4000 [00:00<?, ?it/s]"
     ]
    },
    {
     "name": "stderr",
     "output_type": "stream",
     "text": [
      "100%|██████████| 4000/4000 [00:34<00:00, 115.07it/s]"
     ]
    },
    {
     "name": "stdout",
     "output_type": "stream",
     "text": [
      "Mean value->239.98472595214844, \t Variance->0.26285675168037415\n",
      "Mean value->1.5998979279174819e-06, \t Variance->1.1682525735534464e-17\n"
     ]
    },
    {
     "name": "stderr",
     "output_type": "stream",
     "text": [
      "\n"
     ]
    }
   ],
   "source": [
    "import numpy as np\n",
    "import matplotlib.pyplot as plt\n",
    "from pulses import RadarPulseGenerator, CommPulseGenerator\n",
    "import torch\n",
    "from tqdm import tqdm\n",
    "\n",
    "device = 'cuda' if torch.cuda.is_available() else 'cpu'\n",
    "# device = 'cpu'\n",
    "print(device)\n",
    "t = torch.linspace(0, 1e-4, int(1e6), device=device)\n",
    "dt = t[1] - t[0]\n",
    "# Define parameters\n",
    "T = 1e-4       # Total duration of radar pulse (1e-4 seconds)\n",
    "B = 1e6        # Bandwidth of radar pulse (1 MHz)\n",
    "K = 5         # Number of users (OFDMA users)\n",
    "L = 100        # Number of bits in radar pulse duration\n",
    "Tb = T / L     # Duration of each bit interval\n",
    "distance = 50\n",
    "my_tau = 2*distance / 3e8\n",
    "snr_db = 3\n",
    "Ptotal_dbm = 30\n",
    "snr = 10**(snr_db/10)\n",
    "Ptotal = 10**((Ptotal_dbm-30)/10)\n",
    "\n",
    "myCommPulses = CommPulseGenerator(t, Tb, T, device)\n",
    "myRadar = RadarPulseGenerator(t, T=T, device=device)\n",
    "\n",
    "radar_pulse = myRadar.LFM_pulse(B)\n",
    "print(torch.sum(torch.abs(radar_pulse)**2)*dt)\n",
    "# radar_pulse = radar_pulse / torch.sqrt(torch.sum(torch.abs(radar_pulse)**2)*dt)\n",
    "\n",
    "dis, ta = myRadar.montecarlo_estimation(radar_pulse, 123, 240, 0.8, 3e8, 4000)\n",
    "print(f'Mean value->{torch.mean(dis)}, \\t Variance->{torch.var(dis)}')\n",
    "print(f'Mean value->{torch.mean(ta)}, \\t Variance->{torch.var(ta)}')\n"
   ]
  },
  {
   "cell_type": "code",
   "execution_count": 5,
   "metadata": {},
   "outputs": [
    {
     "data": {
      "text/plain": [
       "tensor(0.2534, device='cuda:0')"
      ]
     },
     "execution_count": 5,
     "metadata": {},
     "output_type": "execute_result"
    }
   ],
   "source": [
    "3 * 3e8**2 * 123 / 32 / 0.64**2 / B**2 / T * dt / 10"
   ]
  },
  {
   "cell_type": "code",
   "execution_count": null,
   "metadata": {},
   "outputs": [],
   "source": [
    "3e8**2"
   ]
  }
 ],
 "metadata": {
  "kernelspec": {
   "display_name": "Python 3",
   "language": "python",
   "name": "python3"
  },
  "language_info": {
   "codemirror_mode": {
    "name": "ipython",
    "version": 3
   },
   "file_extension": ".py",
   "mimetype": "text/x-python",
   "name": "python",
   "nbconvert_exporter": "python",
   "pygments_lexer": "ipython3",
   "version": "3.12.3"
  }
 },
 "nbformat": 4,
 "nbformat_minor": 2
}
