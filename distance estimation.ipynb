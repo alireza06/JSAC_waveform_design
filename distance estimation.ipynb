{
 "cells": [
  {
   "cell_type": "code",
   "execution_count": 2,
   "metadata": {},
   "outputs": [
    {
     "name": "stdout",
     "output_type": "stream",
     "text": [
      "cuda\n",
      "tensor(0.0001, device='cuda:0')\n"
     ]
    },
    {
     "name": "stderr",
     "output_type": "stream",
     "text": [
      "  0%|          | 0/10000 [00:00<?, ?it/s]"
     ]
    },
    {
     "name": "stderr",
     "output_type": "stream",
     "text": [
      "100%|██████████| 10000/10000 [00:48<00:00, 206.62it/s]"
     ]
    },
    {
     "name": "stdout",
     "output_type": "stream",
     "text": [
      "Mean value->2039.8712158203125, \t Variance->0.13406990468502045\n",
      "Mean value->1.3599141311715357e-05, \t Variance->5.958762219419164e-18\n"
     ]
    },
    {
     "name": "stderr",
     "output_type": "stream",
     "text": [
      "\n"
     ]
    }
   ],
   "source": [
    "import numpy as np\n",
    "import matplotlib.pyplot as plt\n",
    "from pulses import RadarPulseGenerator, CommPulseGenerator\n",
    "import torch\n",
    "from tqdm import tqdm\n",
    "\n",
    "device = 'cuda' if torch.cuda.is_available() else 'cpu'\n",
    "# device = 'cpu'\n",
    "print(device)\n",
    "t = torch.linspace(0, 1e-4, int(1e5), device=device)\n",
    "dt = t[1] - t[0]\n",
    "# Define parameters\n",
    "T = 1e-4       # Total duration of radar pulse (1e-4 seconds)\n",
    "B = 1e6        # Bandwidth of radar pulse (1 MHz)\n",
    "K = 5         # Number of users (OFDMA users)\n",
    "L = 100        # Number of bits in radar pulse duration\n",
    "Tb = T / L     # Duration of each bit interval\n",
    "distance = 50\n",
    "my_tau = 2*distance / 3e8\n",
    "N0 = 10\n",
    "A = 0.8\n",
    "\n",
    "myCommPulses = CommPulseGenerator(t, Tb, T, device)\n",
    "myRadar = RadarPulseGenerator(t, T=T, device=device)\n",
    "\n",
    "radar_pulse = myRadar.LFM_pulse(B)\n",
    "print(torch.sum(torch.abs(radar_pulse)**2)*dt)\n",
    "# radar_pulse = radar_pulse / torch.sqrt(torch.sum(torch.abs(radar_pulse)**2)*dt)\n",
    "\n",
    "dis, ta = myRadar.montecarlo_estimation_with_real(radar_pulse, N0, 2040, np.sqrt(A), 3e8, 10000)\n",
    "print(f'Mean value->{torch.mean(dis)}, \\t Variance->{torch.var(dis)}')\n",
    "print(f'Mean value->{torch.mean(ta)}, \\t Variance->{torch.var(ta)}')"
   ]
  }
 ],
 "metadata": {
  "kernelspec": {
   "display_name": "Python 3",
   "language": "python",
   "name": "python3"
  },
  "language_info": {
   "codemirror_mode": {
    "name": "ipython",
    "version": 3
   },
   "file_extension": ".py",
   "mimetype": "text/x-python",
   "name": "python",
   "nbconvert_exporter": "python",
   "pygments_lexer": "ipython3",
   "version": "3.12.3"
  }
 },
 "nbformat": 4,
 "nbformat_minor": 2
}
