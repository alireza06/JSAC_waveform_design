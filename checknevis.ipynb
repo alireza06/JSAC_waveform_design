{
 "cells": [
  {
   "cell_type": "code",
   "execution_count": 4,
   "id": "396ae87d",
   "metadata": {},
   "outputs": [
    {
     "name": "stdout",
     "output_type": "stream",
     "text": [
      "0.00029841551829730374\n"
     ]
    }
   ],
   "source": [
    "import torch\n",
    "import numpy as np\n",
    "import matplotlib.pyplot as plt\n",
    "from torch.optim import Adam\n",
    "import random\n",
    "from tqdm import tqdm\n",
    "\n",
    "fc = 8e8\n",
    "d = 100\n",
    "pathloss = 3e8 / fc / 4 / np.pi / d\n",
    "\n",
    "print(pathloss)"
   ]
  }
 ],
 "metadata": {
  "kernelspec": {
   "display_name": "Python 3",
   "language": "python",
   "name": "python3"
  },
  "language_info": {
   "codemirror_mode": {
    "name": "ipython",
    "version": 3
   },
   "file_extension": ".py",
   "mimetype": "text/x-python",
   "name": "python",
   "nbconvert_exporter": "python",
   "pygments_lexer": "ipython3",
   "version": "3.12.3"
  }
 },
 "nbformat": 4,
 "nbformat_minor": 5
}
