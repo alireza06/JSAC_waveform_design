{
 "cells": [
  {
   "cell_type": "code",
   "execution_count": null,
   "metadata": {},
   "outputs": [
    {
     "name": "stdout",
     "output_type": "stream",
     "text": [
      "cuda\n",
      "4.3488213e-05\n",
      "------>Progress:10.0\n",
      "Testing Velocity=10.0\n"
     ]
    },
    {
     "name": "stderr",
     "output_type": "stream",
     "text": [
      "100%|██████████| 200/200 [03:09<00:00,  1.05it/s]\n"
     ]
    },
    {
     "name": "stdout",
     "output_type": "stream",
     "text": [
      "Mean value->8.89732551574707, \t Variance->0.30021968483924866\n",
      "------>Progress:20.0\n",
      "Testing Velocity=16.681005477905273\n"
     ]
    },
    {
     "name": "stderr",
     "output_type": "stream",
     "text": [
      "100%|██████████| 200/200 [03:18<00:00,  1.01it/s]\n"
     ]
    },
    {
     "name": "stdout",
     "output_type": "stream",
     "text": [
      "Mean value->16.853906631469727, \t Variance->0.13027171790599823\n",
      "------>Progress:30.0\n",
      "Testing Velocity=27.825593948364258\n"
     ]
    },
    {
     "name": "stderr",
     "output_type": "stream",
     "text": [
      "100%|██████████| 200/200 [03:18<00:00,  1.01it/s]\n"
     ]
    },
    {
     "name": "stdout",
     "output_type": "stream",
     "text": [
      "Mean value->27.55168914794922, \t Variance->0.1963483989238739\n",
      "------>Progress:40.0\n",
      "Testing Velocity=46.415889739990234\n"
     ]
    },
    {
     "name": "stderr",
     "output_type": "stream",
     "text": [
      " 65%|██████▌   | 130/200 [02:09<01:14,  1.07s/it]"
     ]
    }
   ],
   "source": [
    "import numpy as np\n",
    "import matplotlib.pyplot as plt\n",
    "from pulses import RadarPulseGenerator, CommPulseGenerator\n",
    "import torch\n",
    "from tqdm import tqdm\n",
    "\n",
    "device = 'cuda' if torch.cuda.is_available() else 'cpu'\n",
    "# device = 'cpu'\n",
    "print(device)\n",
    "t = torch.linspace(0, 1e-4, int(1e5), device=device)\n",
    "dt = t[1] - t[0]\n",
    "# Define parameters\n",
    "T = 1e-4       # Total duration of radar pulse (1e-4 seconds)\n",
    "B = 1e6        # Bandwidth of radar pulse (1 MHz)\n",
    "K = 5         # Number of users (OFDMA users)\n",
    "L = 100        # Number of bits in radar pulse duration\n",
    "Tb = T / L     # Duration of each bit interval\n",
    "Q = 256 #Number of Pulses in one Pulse train\n",
    "T_PRI = T\n",
    "carrier_freq = 800e6\n",
    "\n",
    "myCommPulses = CommPulseGenerator(t, Tb, T, device)\n",
    "myRadar = RadarPulseGenerator(t, T=T, device=device)\n",
    "\n",
    "radar_pulse = myRadar.LFM_pulse(B) * np.sqrt(1e4) #normalize power to unity (1Watt)\n",
    "radar_pulse_power = myRadar.power_calc(radar_pulse)\n",
    "print(10*np.log10(radar_pulse_power.cpu().numpy()))\n",
    "\n",
    "N0 = 10**(-120/10)\n",
    "MN = int(200)\n",
    "distance = 200\n",
    "velocities = torch.logspace(1, 3, 10)\n",
    "est_velocities = torch.zeros((MN, len(velocities)))\n",
    "crlb_velocities = torch.zeros(len(velocities))\n",
    "for idx, velocity in enumerate(velocities):\n",
    "    print(f'------>Progress:{(idx+1)/len(velocities)*100}\\r\\nTesting Velocity={velocity}')\n",
    "    est_velocities[:, idx] = myRadar.montecarlo_doppler_estimation_slow_time(radar_pulse, N0, distance, velocity, carrier_freq, 3e8, Q, T_PRI, MN)\n",
    "    print(f'Mean value->{torch.mean(est_velocities[:, idx])}, \\t Variance->{torch.var(est_velocities[:, idx])}')\n",
    "\n",
    "# --- Modified Plotting Section ---\n",
    "fig, ax1 = plt.subplots(figsize=(12, 7))\n",
    "\n",
    "# Plotting on the primary (left) y-axis\n",
    "ax1.set_title('Estimation Variance vs. Velocities', fontsize=16)\n",
    "ax1.set_xlabel(r'Velocities ($m/s$)', fontsize=12)\n",
    "ax1.set_ylabel(r'Variance ($\\(m/s\\)^2$)', fontsize=12)\n",
    "ax1.grid(which='both', linestyle=':')\n",
    "ax1.plot(velocities, torch.var(est_velocities, dim=0))\n",
    "\n",
    "fig.tight_layout()\n",
    "plt.savefig(\"crlb_vs_distance_with_snr.pdf\", bbox_inches='tight')"
   ]
  }
 ],
 "metadata": {
  "kernelspec": {
   "display_name": "Python 3 (ipykernel)",
   "language": "python",
   "name": "python3"
  },
  "language_info": {
   "codemirror_mode": {
    "name": "ipython",
    "version": 3
   },
   "file_extension": ".py",
   "mimetype": "text/x-python",
   "name": "python",
   "nbconvert_exporter": "python",
   "pygments_lexer": "ipython3",
   "version": "3.11.11"
  }
 },
 "nbformat": 4,
 "nbformat_minor": 2
}
